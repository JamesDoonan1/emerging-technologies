{
 "cells": [
  {
   "cell_type": "code",
   "execution_count": null,
   "metadata": {},
   "outputs": [],
   "source": [
    "import re\n",
    "from collections import defaultdict\n",
    "\n",
    "## Step 1: Load and Clean the Text\n",
    "def clean_text(text):\n",
    "    # Remove non-alphabetic characters. Keep letters, spaces and full stops\n",
    "    cleaned = re.sub(r'[^A-Z\\s.]','', text.upper())\n",
    "    return cleaned\n",
    "\n",
    "# Function to load in Text files and clean them\n",
    "def process_file(file_path):\n",
    "    with open(file_path, 'r', encoding='etf-8') as f:\n",
    "        text = f.read()\n",
    "\n",
    "    # Remove preamble/postamble for the texts from Project Guttenberg\n",
    "    text = text.split(\"*** START OF THIS PROJECT GUTENBERG BOOK\" )[1]\n",
    "    text = text.split(\"*** END OF THIS PROJECT GUTENBERG BOOK\" )[0]\n",
    "\n",
    "    # Clean the text\n",
    "    return clean_text(text)\n",
    "\n",
    "# Example with one file\n",
    "cleaned_text = process_file('GutenberTexts/Frankenstein.txt')\n",
    "# Display the first 500 characters of Frankenstein\n",
    "print(cleaned_text[:500])  \n",
    "\n",
    "def build_trigram_model(cleaned_text):\n",
    "    trigram_counts = defaultdict(int)\n",
    "\n",
    "    # Loop through the text and the create trigrams\n",
    "    for i in range(len(cleaned_text) -2):\n",
    "        trigram = cleaned_text[i:i+3]\n",
    "        trigram_counts[trigram] += 1\n",
    "\n",
    "    return trigram_counts\n",
    "\n"
   ]
  },
  {
   "cell_type": "code",
   "execution_count": null,
   "metadata": {},
   "outputs": [],
   "source": []
  },
  {
   "cell_type": "markdown",
   "metadata": {},
   "source": []
  }
 ],
 "metadata": {
  "language_info": {
   "name": "python"
  }
 },
 "nbformat": 4,
 "nbformat_minor": 2
}
