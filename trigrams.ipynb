{
 "cells": [
  {
   "cell_type": "code",
   "execution_count": 1,
   "metadata": {},
   "outputs": [
    {
     "name": "stdout",
     "output_type": "stream",
     "text": [
      "{' LE': 2789, 'LET': 1288, 'ETT': 997, 'TTE': 2141, 'TER': 7254, 'ER ': 17193, 'R T': 4524, ' TO': 16087, 'TO ': 14617, 'O M': 1842}\n"
     ]
    }
   ],
   "source": [
    "import re\n",
    "from collections import defaultdict\n",
    "\n",
    "## Step 1: Load and Clean the Text\n",
    "def clean_text(text):\n",
    "    # Replace newlines with spaces.\n",
    "    text = text.replace('\\n', ' ')\n",
    "                        \n",
    "    # Remove non-alphabetic characters. Keep letters, spaces and full stops\n",
    "    cleaned = re.sub(r'[^A-Z\\s.]','', text.upper())\n",
    "\n",
    "    # Replace multiple spaces with a single space\n",
    "    cleaned = re.sub(r'\\s+',' ',cleaned)\n",
    "\n",
    "    return cleaned\n",
    "\n",
    "# Function to load in Text files and clean them\n",
    "def process_file(file_path):\n",
    "    with open(file_path, 'r', encoding='utf-8') as f:\n",
    "        text = f.read()\n",
    "\n",
    "    # Remove preamble/postamble for the texts from Project Guttenberg\n",
    "    start_marker = re.search(r\"\\*\\*\\* START OF (THE|THIS) PROJECT GUTENBERG EBOOK.*\\*\\*\\*\", text)\n",
    "    end_marker = re.search(r\"\\*\\*\\* END OF (THE|THIS) PROJECT GUTENBERG EBOOK.*\\*\\*\\*\", text)\n",
    "\n",
    "    if start_marker and end_marker:\n",
    "        text = text[start_marker.end():end_marker.start()]\n",
    "    else:\n",
    "        print(\"Warning: Could not find standard Project Gutenberg markers.\")\n",
    "\n",
    "    # Clean the text\n",
    "    return clean_text(text)\n",
    "\n",
    "\n",
    "\n",
    "# ********** Example with one file  *********************\n",
    "# cleaned_text = process_file('gutenbergTexts/frankenstein.txt')\n",
    "# Display the first 500 characters of Frankenstein\n",
    "# print(cleaned_text[:500])  \n",
    "\n",
    "def build_trigram_model(cleaned_text):\n",
    "    trigram_counts = defaultdict(int)\n",
    "\n",
    "    # Loop through the text and the create trigrams\n",
    "    for i in range(len(cleaned_text) -2):\n",
    "        trigram = cleaned_text[i:i+3]\n",
    "        trigram_counts[trigram] += 1\n",
    "\n",
    "    return trigram_counts\n",
    "\n",
    "def process_multiple_files(file_paths):\n",
    "    combined_trigram_counts = defaultdict(int)\n",
    "\n",
    "    for file_path in file_paths:\n",
    "        # Process/Clean the file\n",
    "        cleaned_text = process_file(file_path)\n",
    "\n",
    "        # Build trigram model for the current file\n",
    "        trigram_counts = build_trigram_model(cleaned_text)\n",
    "\n",
    "        # Merge the trigram counts from this file into the combined count\n",
    "        for trigram, count in trigram_counts.items():\n",
    "            combined_trigram_counts[trigram] += count\n",
    "        \n",
    "    return combined_trigram_counts\n",
    "\n",
    "\n",
    "# List all file paths for 5 different books from Project Gutenberg\n",
    "file_paths = [\n",
    "    'gutenbergTexts/frankenstein.txt',\n",
    "    'gutenbergTexts/mobydick.txt',\n",
    "    'gutenbergTexts/prideAndPrejudice.txt',\n",
    "    'gutenbergTexts/romeoAndJuliet.txt',\n",
    "    'gutenbergTexts/scarletLetter.txt'\n",
    "]\n",
    "\n",
    "# Build the model for one file\n",
    "combined_trigram_model = process_multiple_files(file_paths)\n",
    "\n",
    "print(dict(list(combined_trigram_model.items())[:10]))  # This will show the first 10 trigram counts"
   ]
  },
  {
   "cell_type": "markdown",
   "metadata": {},
   "source": []
  }
 ],
 "metadata": {
  "kernelspec": {
   "display_name": "Python 3",
   "language": "python",
   "name": "python3"
  },
  "language_info": {
   "codemirror_mode": {
    "name": "ipython",
    "version": 3
   },
   "file_extension": ".py",
   "mimetype": "text/x-python",
   "name": "python",
   "nbconvert_exporter": "python",
   "pygments_lexer": "ipython3",
   "version": "3.12.2"
  }
 },
 "nbformat": 4,
 "nbformat_minor": 2
}
