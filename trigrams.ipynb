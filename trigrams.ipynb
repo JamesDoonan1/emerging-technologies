{
 "cells": [
  {
   "cell_type": "code",
   "execution_count": 4,
   "metadata": {},
   "outputs": [
    {
     "name": "stdout",
     "output_type": "stream",
     "text": [
      " FRANKENSTEIN OR THE MODERN PROMETHEUS BY MARY WOLLSTONECRAFT GODWIN SHELLEY CONTENTS LETTER LETTER LETTER LETTER CHAPTER CHAPTER CHAPTER CHAPTER CHAPTER CHAPTER CHAPTER CHAPTER CHAPTER CHAPTER CHAPTER CHAPTER CHAPTER CHAPTER CHAPTER CHAPTER CHAPTER CHAPTER CHAPTER CHAPTER CHAPTER CHAPTER CHAPTER CHAPTER LETTER TO MRS. SAVILLE ENGLAND. ST. PETERSBURGH DEC. TH . YOU WILL REJOICE TO HEAR THAT NO DISASTER HAS ACCOMPANIED THE COMMENCEMENT OF AN ENTERPRISE WHICH YOU HAVE REGARDED WITH SUCH EVIL FOREB\n",
      "{' FR': 672, 'FRA': 61, 'RAN': 297, 'ANK': 99, 'NKE': 38, 'KEN': 111, 'ENS': 183, 'NST': 189, 'STE': 364, 'TEI': 27}\n"
     ]
    }
   ],
   "source": [
    "import re\n",
    "from collections import defaultdict\n",
    "\n",
    "## Step 1: Load and Clean the Text\n",
    "def clean_text(text):\n",
    "    # Replace newlines with spaces.\n",
    "    text = text.replace('\\n', ' ')\n",
    "                        \n",
    "    # Remove non-alphabetic characters. Keep letters, spaces and full stops\n",
    "    cleaned = re.sub(r'[^A-Z\\s.]','', text.upper())\n",
    "\n",
    "    # Replace multiple spaces with a single space\n",
    "    cleaned = re.sub(r'\\s+',' ',cleaned)\n",
    "\n",
    "    return cleaned\n",
    "\n",
    "# Function to load in Text files and clean them\n",
    "def process_file(file_path):\n",
    "    with open(file_path, 'r', encoding='utf-8') as f:\n",
    "        text = f.read()\n",
    "\n",
    "    # Remove preamble/postamble for the texts from Project Guttenberg\n",
    "    start_marker = re.search(r\"\\*\\*\\* START OF (THE|THIS) PROJECT GUTENBERG EBOOK.*\\*\\*\\*\", text)\n",
    "    end_marker = re.search(r\"\\*\\*\\* END OF (THE|THIS) PROJECT GUTENBERG EBOOK.*\\*\\*\\*\", text)\n",
    "\n",
    "    if start_marker and end_marker:\n",
    "        text = text[start_marker.end():end_marker.start()]\n",
    "    else:\n",
    "        print(\"Warning: Could not find standard Project Gutenberg markers.\")\n",
    "\n",
    "    # Clean the text\n",
    "    return clean_text(text)\n",
    "\n",
    "\n",
    "\n",
    "# Example with one file\n",
    "cleaned_text = process_file('gutenbergTexts/frankenstein.txt')\n",
    "# Display the first 500 characters of Frankenstein\n",
    "print(cleaned_text[:500])  \n",
    "\n",
    "def build_trigram_model(cleaned_text):\n",
    "    trigram_counts = defaultdict(int)\n",
    "\n",
    "    # Loop through the text and the create trigrams\n",
    "    for i in range(len(cleaned_text) -2):\n",
    "        trigram = cleaned_text[i:i+3]\n",
    "        trigram_counts[trigram] += 1\n",
    "\n",
    "    return trigram_counts\n",
    "\n",
    "# Build the model for one file\n",
    "trigram_model = build_trigram_model(cleaned_text)\n",
    "\n",
    "print(dict(list(trigram_model.items())[:10]))  # This will show the first 10 trigram counts"
   ]
  },
  {
   "cell_type": "code",
   "execution_count": null,
   "metadata": {},
   "outputs": [],
   "source": []
  },
  {
   "cell_type": "markdown",
   "metadata": {},
   "source": []
  }
 ],
 "metadata": {
  "kernelspec": {
   "display_name": "Python 3",
   "language": "python",
   "name": "python3"
  },
  "language_info": {
   "codemirror_mode": {
    "name": "ipython",
    "version": 3
   },
   "file_extension": ".py",
   "mimetype": "text/x-python",
   "name": "python",
   "nbconvert_exporter": "python",
   "pygments_lexer": "ipython3",
   "version": "3.12.2"
  }
 },
 "nbformat": 4,
 "nbformat_minor": 2
}
